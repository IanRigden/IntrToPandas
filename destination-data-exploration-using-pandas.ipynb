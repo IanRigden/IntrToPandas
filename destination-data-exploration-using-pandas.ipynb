{
 "cells": [
  {
   "cell_type": "code",
   "execution_count": null,
   "id": "13d48e81",
   "metadata": {
    "papermill": {
     "duration": 0.008747,
     "end_time": "2023-03-20T13:48:08.173450",
     "exception": false,
     "start_time": "2023-03-20T13:48:08.164703",
     "status": "completed"
    },
    "tags": []
   },
   "outputs": [],
   "source": []
  },
  {
   "cell_type": "markdown",
   "id": "5d398dac",
   "metadata": {
    "papermill": {
     "duration": 0.007277,
     "end_time": "2023-03-20T13:48:08.188613",
     "exception": false,
     "start_time": "2023-03-20T13:48:08.181336",
     "status": "completed"
    },
    "tags": []
   },
   "source": [
    "Exploring the use of Pandas for simple data analysis."
   ]
  },
  {
   "cell_type": "markdown",
   "id": "7ecc8089",
   "metadata": {
    "papermill": {
     "duration": 0.007407,
     "end_time": "2023-03-20T13:48:08.203650",
     "exception": false,
     "start_time": "2023-03-20T13:48:08.196243",
     "status": "completed"
    },
    "tags": []
   },
   "source": [
    "Data set for exercise purposes only."
   ]
  },
  {
   "cell_type": "code",
   "execution_count": 1,
   "id": "ebdcb6ac",
   "metadata": {
    "execution": {
     "iopub.execute_input": "2023-03-20T13:48:08.221826Z",
     "iopub.status.busy": "2023-03-20T13:48:08.220970Z",
     "iopub.status.idle": "2023-03-20T13:48:08.253722Z",
     "shell.execute_reply": "2023-03-20T13:48:08.252858Z"
    },
    "papermill": {
     "duration": 0.044606,
     "end_time": "2023-03-20T13:48:08.256080",
     "exception": false,
     "start_time": "2023-03-20T13:48:08.211474",
     "status": "completed"
    },
    "tags": []
   },
   "outputs": [],
   "source": [
    "#import pandas\n",
    "import pandas as pd\n",
    "\n",
    "#loading data into data frame\n",
    "df = pd.read_csv('/kaggle/input/destination/destination.csv')"
   ]
  },
  {
   "cell_type": "markdown",
   "id": "c6598e9e",
   "metadata": {
    "papermill": {
     "duration": 0.006961,
     "end_time": "2023-03-20T13:48:08.270473",
     "exception": false,
     "start_time": "2023-03-20T13:48:08.263512",
     "status": "completed"
    },
    "tags": []
   },
   "source": [
    "Use df to display whole data in a cell"
   ]
  },
  {
   "cell_type": "code",
   "execution_count": 2,
   "id": "db891b97",
   "metadata": {
    "execution": {
     "iopub.execute_input": "2023-03-20T13:48:08.286824Z",
     "iopub.status.busy": "2023-03-20T13:48:08.286228Z",
     "iopub.status.idle": "2023-03-20T13:48:08.309495Z",
     "shell.execute_reply": "2023-03-20T13:48:08.308524Z"
    },
    "papermill": {
     "duration": 0.033667,
     "end_time": "2023-03-20T13:48:08.311410",
     "exception": false,
     "start_time": "2023-03-20T13:48:08.277743",
     "status": "completed"
    },
    "tags": []
   },
   "outputs": [
    {
     "data": {
      "text/html": [
       "<div>\n",
       "<style scoped>\n",
       "    .dataframe tbody tr th:only-of-type {\n",
       "        vertical-align: middle;\n",
       "    }\n",
       "\n",
       "    .dataframe tbody tr th {\n",
       "        vertical-align: top;\n",
       "    }\n",
       "\n",
       "    .dataframe thead th {\n",
       "        text-align: right;\n",
       "    }\n",
       "</style>\n",
       "<table border=\"1\" class=\"dataframe\">\n",
       "  <thead>\n",
       "    <tr style=\"text-align: right;\">\n",
       "      <th></th>\n",
       "      <th>id</th>\n",
       "      <th>Destination</th>\n",
       "      <th>Feedback</th>\n",
       "      <th>Avg Rating</th>\n",
       "      <th>All in Hotels</th>\n",
       "      <th>Most Popular</th>\n",
       "    </tr>\n",
       "  </thead>\n",
       "  <tbody>\n",
       "    <tr>\n",
       "      <th>0</th>\n",
       "      <td>1</td>\n",
       "      <td>New Zealand</td>\n",
       "      <td>9</td>\n",
       "      <td>4</td>\n",
       "      <td>5</td>\n",
       "      <td>Rotura</td>\n",
       "    </tr>\n",
       "    <tr>\n",
       "      <th>1</th>\n",
       "      <td>2</td>\n",
       "      <td>North Pole</td>\n",
       "      <td>8</td>\n",
       "      <td>4</td>\n",
       "      <td>6</td>\n",
       "      <td>Svalbard</td>\n",
       "    </tr>\n",
       "    <tr>\n",
       "      <th>2</th>\n",
       "      <td>3</td>\n",
       "      <td>Turkmenistan</td>\n",
       "      <td>7</td>\n",
       "      <td>3</td>\n",
       "      <td>9</td>\n",
       "      <td>Derweze</td>\n",
       "    </tr>\n",
       "    <tr>\n",
       "      <th>3</th>\n",
       "      <td>4</td>\n",
       "      <td>Russia</td>\n",
       "      <td>8</td>\n",
       "      <td>5</td>\n",
       "      <td>17</td>\n",
       "      <td>Yakaterinburg</td>\n",
       "    </tr>\n",
       "    <tr>\n",
       "      <th>4</th>\n",
       "      <td>5</td>\n",
       "      <td>Austria</td>\n",
       "      <td>9</td>\n",
       "      <td>4</td>\n",
       "      <td>12</td>\n",
       "      <td>Hinterbruhl</td>\n",
       "    </tr>\n",
       "    <tr>\n",
       "      <th>5</th>\n",
       "      <td>6</td>\n",
       "      <td>China</td>\n",
       "      <td>8</td>\n",
       "      <td>3</td>\n",
       "      <td>198</td>\n",
       "      <td>Xinjiang</td>\n",
       "    </tr>\n",
       "    <tr>\n",
       "      <th>6</th>\n",
       "      <td>7</td>\n",
       "      <td>Italy</td>\n",
       "      <td>9</td>\n",
       "      <td>5</td>\n",
       "      <td>76</td>\n",
       "      <td>Puglia</td>\n",
       "    </tr>\n",
       "    <tr>\n",
       "      <th>7</th>\n",
       "      <td>8</td>\n",
       "      <td>France</td>\n",
       "      <td>6</td>\n",
       "      <td>3</td>\n",
       "      <td>24</td>\n",
       "      <td>Nantes</td>\n",
       "    </tr>\n",
       "    <tr>\n",
       "      <th>8</th>\n",
       "      <td>9</td>\n",
       "      <td>India</td>\n",
       "      <td>8</td>\n",
       "      <td>3</td>\n",
       "      <td>45</td>\n",
       "      <td>Ladakh</td>\n",
       "    </tr>\n",
       "    <tr>\n",
       "      <th>9</th>\n",
       "      <td>10</td>\n",
       "      <td>Indonesia</td>\n",
       "      <td>9</td>\n",
       "      <td>4</td>\n",
       "      <td>80</td>\n",
       "      <td>Aceh</td>\n",
       "    </tr>\n",
       "    <tr>\n",
       "      <th>10</th>\n",
       "      <td>11</td>\n",
       "      <td>Japan</td>\n",
       "      <td>10</td>\n",
       "      <td>5</td>\n",
       "      <td>90</td>\n",
       "      <td>Beppu</td>\n",
       "    </tr>\n",
       "    <tr>\n",
       "      <th>11</th>\n",
       "      <td>12</td>\n",
       "      <td>Turkey</td>\n",
       "      <td>9</td>\n",
       "      <td>4</td>\n",
       "      <td>54</td>\n",
       "      <td>Faralya</td>\n",
       "    </tr>\n",
       "    <tr>\n",
       "      <th>12</th>\n",
       "      <td>13</td>\n",
       "      <td>Palestine</td>\n",
       "      <td>9</td>\n",
       "      <td>3</td>\n",
       "      <td>5</td>\n",
       "      <td>Jerusalem</td>\n",
       "    </tr>\n",
       "    <tr>\n",
       "      <th>13</th>\n",
       "      <td>14</td>\n",
       "      <td>Oman</td>\n",
       "      <td>7</td>\n",
       "      <td>5</td>\n",
       "      <td>2</td>\n",
       "      <td>Bahla</td>\n",
       "    </tr>\n",
       "    <tr>\n",
       "      <th>14</th>\n",
       "      <td>15</td>\n",
       "      <td>United Kingdom</td>\n",
       "      <td>7</td>\n",
       "      <td>4</td>\n",
       "      <td>20</td>\n",
       "      <td>London</td>\n",
       "    </tr>\n",
       "  </tbody>\n",
       "</table>\n",
       "</div>"
      ],
      "text/plain": [
       "    id     Destination  Feedback  Avg Rating  All in Hotels   Most Popular\n",
       "0    1     New Zealand         9           4              5         Rotura\n",
       "1    2      North Pole         8           4              6       Svalbard\n",
       "2    3    Turkmenistan         7           3              9        Derweze\n",
       "3    4          Russia         8           5             17  Yakaterinburg\n",
       "4    5         Austria         9           4             12    Hinterbruhl\n",
       "5    6           China         8           3            198       Xinjiang\n",
       "6    7           Italy         9           5             76         Puglia\n",
       "7    8          France         6           3             24         Nantes\n",
       "8    9           India         8           3             45         Ladakh\n",
       "9   10       Indonesia         9           4             80           Aceh\n",
       "10  11           Japan        10           5             90          Beppu\n",
       "11  12          Turkey         9           4             54        Faralya\n",
       "12  13       Palestine         9           3              5      Jerusalem\n",
       "13  14            Oman         7           5              2          Bahla\n",
       "14  15  United Kingdom         7           4             20         London"
      ]
     },
     "execution_count": 2,
     "metadata": {},
     "output_type": "execute_result"
    }
   ],
   "source": [
    "df"
   ]
  },
  {
   "cell_type": "markdown",
   "id": "02a7d36e",
   "metadata": {
    "papermill": {
     "duration": 0.007285,
     "end_time": "2023-03-20T13:48:08.326518",
     "exception": false,
     "start_time": "2023-03-20T13:48:08.319233",
     "status": "completed"
    },
    "tags": []
   },
   "source": [
    "Display first 10 rows use 'head(10)'"
   ]
  },
  {
   "cell_type": "code",
   "execution_count": 3,
   "id": "5fd48a6d",
   "metadata": {
    "execution": {
     "iopub.execute_input": "2023-03-20T13:48:08.343751Z",
     "iopub.status.busy": "2023-03-20T13:48:08.343367Z",
     "iopub.status.idle": "2023-03-20T13:48:08.353803Z",
     "shell.execute_reply": "2023-03-20T13:48:08.353177Z"
    },
    "papermill": {
     "duration": 0.021237,
     "end_time": "2023-03-20T13:48:08.355860",
     "exception": false,
     "start_time": "2023-03-20T13:48:08.334623",
     "status": "completed"
    },
    "tags": []
   },
   "outputs": [
    {
     "data": {
      "text/html": [
       "<div>\n",
       "<style scoped>\n",
       "    .dataframe tbody tr th:only-of-type {\n",
       "        vertical-align: middle;\n",
       "    }\n",
       "\n",
       "    .dataframe tbody tr th {\n",
       "        vertical-align: top;\n",
       "    }\n",
       "\n",
       "    .dataframe thead th {\n",
       "        text-align: right;\n",
       "    }\n",
       "</style>\n",
       "<table border=\"1\" class=\"dataframe\">\n",
       "  <thead>\n",
       "    <tr style=\"text-align: right;\">\n",
       "      <th></th>\n",
       "      <th>id</th>\n",
       "      <th>Destination</th>\n",
       "      <th>Feedback</th>\n",
       "      <th>Avg Rating</th>\n",
       "      <th>All in Hotels</th>\n",
       "      <th>Most Popular</th>\n",
       "    </tr>\n",
       "  </thead>\n",
       "  <tbody>\n",
       "    <tr>\n",
       "      <th>0</th>\n",
       "      <td>1</td>\n",
       "      <td>New Zealand</td>\n",
       "      <td>9</td>\n",
       "      <td>4</td>\n",
       "      <td>5</td>\n",
       "      <td>Rotura</td>\n",
       "    </tr>\n",
       "    <tr>\n",
       "      <th>1</th>\n",
       "      <td>2</td>\n",
       "      <td>North Pole</td>\n",
       "      <td>8</td>\n",
       "      <td>4</td>\n",
       "      <td>6</td>\n",
       "      <td>Svalbard</td>\n",
       "    </tr>\n",
       "    <tr>\n",
       "      <th>2</th>\n",
       "      <td>3</td>\n",
       "      <td>Turkmenistan</td>\n",
       "      <td>7</td>\n",
       "      <td>3</td>\n",
       "      <td>9</td>\n",
       "      <td>Derweze</td>\n",
       "    </tr>\n",
       "    <tr>\n",
       "      <th>3</th>\n",
       "      <td>4</td>\n",
       "      <td>Russia</td>\n",
       "      <td>8</td>\n",
       "      <td>5</td>\n",
       "      <td>17</td>\n",
       "      <td>Yakaterinburg</td>\n",
       "    </tr>\n",
       "    <tr>\n",
       "      <th>4</th>\n",
       "      <td>5</td>\n",
       "      <td>Austria</td>\n",
       "      <td>9</td>\n",
       "      <td>4</td>\n",
       "      <td>12</td>\n",
       "      <td>Hinterbruhl</td>\n",
       "    </tr>\n",
       "    <tr>\n",
       "      <th>5</th>\n",
       "      <td>6</td>\n",
       "      <td>China</td>\n",
       "      <td>8</td>\n",
       "      <td>3</td>\n",
       "      <td>198</td>\n",
       "      <td>Xinjiang</td>\n",
       "    </tr>\n",
       "    <tr>\n",
       "      <th>6</th>\n",
       "      <td>7</td>\n",
       "      <td>Italy</td>\n",
       "      <td>9</td>\n",
       "      <td>5</td>\n",
       "      <td>76</td>\n",
       "      <td>Puglia</td>\n",
       "    </tr>\n",
       "    <tr>\n",
       "      <th>7</th>\n",
       "      <td>8</td>\n",
       "      <td>France</td>\n",
       "      <td>6</td>\n",
       "      <td>3</td>\n",
       "      <td>24</td>\n",
       "      <td>Nantes</td>\n",
       "    </tr>\n",
       "    <tr>\n",
       "      <th>8</th>\n",
       "      <td>9</td>\n",
       "      <td>India</td>\n",
       "      <td>8</td>\n",
       "      <td>3</td>\n",
       "      <td>45</td>\n",
       "      <td>Ladakh</td>\n",
       "    </tr>\n",
       "    <tr>\n",
       "      <th>9</th>\n",
       "      <td>10</td>\n",
       "      <td>Indonesia</td>\n",
       "      <td>9</td>\n",
       "      <td>4</td>\n",
       "      <td>80</td>\n",
       "      <td>Aceh</td>\n",
       "    </tr>\n",
       "  </tbody>\n",
       "</table>\n",
       "</div>"
      ],
      "text/plain": [
       "   id   Destination  Feedback  Avg Rating  All in Hotels   Most Popular\n",
       "0   1   New Zealand         9           4              5         Rotura\n",
       "1   2    North Pole         8           4              6       Svalbard\n",
       "2   3  Turkmenistan         7           3              9        Derweze\n",
       "3   4        Russia         8           5             17  Yakaterinburg\n",
       "4   5       Austria         9           4             12    Hinterbruhl\n",
       "5   6         China         8           3            198       Xinjiang\n",
       "6   7         Italy         9           5             76         Puglia\n",
       "7   8        France         6           3             24         Nantes\n",
       "8   9         India         8           3             45         Ladakh\n",
       "9  10     Indonesia         9           4             80           Aceh"
      ]
     },
     "execution_count": 3,
     "metadata": {},
     "output_type": "execute_result"
    }
   ],
   "source": [
    "df.head(10)"
   ]
  },
  {
   "cell_type": "markdown",
   "id": "e5f53898",
   "metadata": {
    "papermill": {
     "duration": 0.007762,
     "end_time": "2023-03-20T13:48:08.372136",
     "exception": false,
     "start_time": "2023-03-20T13:48:08.364374",
     "status": "completed"
    },
    "tags": []
   },
   "source": [
    "use .tail(10) to display the bottom 10 records"
   ]
  },
  {
   "cell_type": "code",
   "execution_count": 4,
   "id": "0a62ae8e",
   "metadata": {
    "execution": {
     "iopub.execute_input": "2023-03-20T13:48:08.390311Z",
     "iopub.status.busy": "2023-03-20T13:48:08.389658Z",
     "iopub.status.idle": "2023-03-20T13:48:08.400212Z",
     "shell.execute_reply": "2023-03-20T13:48:08.399527Z"
    },
    "papermill": {
     "duration": 0.02144,
     "end_time": "2023-03-20T13:48:08.401805",
     "exception": false,
     "start_time": "2023-03-20T13:48:08.380365",
     "status": "completed"
    },
    "tags": []
   },
   "outputs": [
    {
     "data": {
      "text/html": [
       "<div>\n",
       "<style scoped>\n",
       "    .dataframe tbody tr th:only-of-type {\n",
       "        vertical-align: middle;\n",
       "    }\n",
       "\n",
       "    .dataframe tbody tr th {\n",
       "        vertical-align: top;\n",
       "    }\n",
       "\n",
       "    .dataframe thead th {\n",
       "        text-align: right;\n",
       "    }\n",
       "</style>\n",
       "<table border=\"1\" class=\"dataframe\">\n",
       "  <thead>\n",
       "    <tr style=\"text-align: right;\">\n",
       "      <th></th>\n",
       "      <th>id</th>\n",
       "      <th>Destination</th>\n",
       "      <th>Feedback</th>\n",
       "      <th>Avg Rating</th>\n",
       "      <th>All in Hotels</th>\n",
       "      <th>Most Popular</th>\n",
       "    </tr>\n",
       "  </thead>\n",
       "  <tbody>\n",
       "    <tr>\n",
       "      <th>5</th>\n",
       "      <td>6</td>\n",
       "      <td>China</td>\n",
       "      <td>8</td>\n",
       "      <td>3</td>\n",
       "      <td>198</td>\n",
       "      <td>Xinjiang</td>\n",
       "    </tr>\n",
       "    <tr>\n",
       "      <th>6</th>\n",
       "      <td>7</td>\n",
       "      <td>Italy</td>\n",
       "      <td>9</td>\n",
       "      <td>5</td>\n",
       "      <td>76</td>\n",
       "      <td>Puglia</td>\n",
       "    </tr>\n",
       "    <tr>\n",
       "      <th>7</th>\n",
       "      <td>8</td>\n",
       "      <td>France</td>\n",
       "      <td>6</td>\n",
       "      <td>3</td>\n",
       "      <td>24</td>\n",
       "      <td>Nantes</td>\n",
       "    </tr>\n",
       "    <tr>\n",
       "      <th>8</th>\n",
       "      <td>9</td>\n",
       "      <td>India</td>\n",
       "      <td>8</td>\n",
       "      <td>3</td>\n",
       "      <td>45</td>\n",
       "      <td>Ladakh</td>\n",
       "    </tr>\n",
       "    <tr>\n",
       "      <th>9</th>\n",
       "      <td>10</td>\n",
       "      <td>Indonesia</td>\n",
       "      <td>9</td>\n",
       "      <td>4</td>\n",
       "      <td>80</td>\n",
       "      <td>Aceh</td>\n",
       "    </tr>\n",
       "    <tr>\n",
       "      <th>10</th>\n",
       "      <td>11</td>\n",
       "      <td>Japan</td>\n",
       "      <td>10</td>\n",
       "      <td>5</td>\n",
       "      <td>90</td>\n",
       "      <td>Beppu</td>\n",
       "    </tr>\n",
       "    <tr>\n",
       "      <th>11</th>\n",
       "      <td>12</td>\n",
       "      <td>Turkey</td>\n",
       "      <td>9</td>\n",
       "      <td>4</td>\n",
       "      <td>54</td>\n",
       "      <td>Faralya</td>\n",
       "    </tr>\n",
       "    <tr>\n",
       "      <th>12</th>\n",
       "      <td>13</td>\n",
       "      <td>Palestine</td>\n",
       "      <td>9</td>\n",
       "      <td>3</td>\n",
       "      <td>5</td>\n",
       "      <td>Jerusalem</td>\n",
       "    </tr>\n",
       "    <tr>\n",
       "      <th>13</th>\n",
       "      <td>14</td>\n",
       "      <td>Oman</td>\n",
       "      <td>7</td>\n",
       "      <td>5</td>\n",
       "      <td>2</td>\n",
       "      <td>Bahla</td>\n",
       "    </tr>\n",
       "    <tr>\n",
       "      <th>14</th>\n",
       "      <td>15</td>\n",
       "      <td>United Kingdom</td>\n",
       "      <td>7</td>\n",
       "      <td>4</td>\n",
       "      <td>20</td>\n",
       "      <td>London</td>\n",
       "    </tr>\n",
       "  </tbody>\n",
       "</table>\n",
       "</div>"
      ],
      "text/plain": [
       "    id     Destination  Feedback  Avg Rating  All in Hotels Most Popular\n",
       "5    6           China         8           3            198     Xinjiang\n",
       "6    7           Italy         9           5             76       Puglia\n",
       "7    8          France         6           3             24       Nantes\n",
       "8    9           India         8           3             45       Ladakh\n",
       "9   10       Indonesia         9           4             80         Aceh\n",
       "10  11           Japan        10           5             90        Beppu\n",
       "11  12          Turkey         9           4             54      Faralya\n",
       "12  13       Palestine         9           3              5    Jerusalem\n",
       "13  14            Oman         7           5              2        Bahla\n",
       "14  15  United Kingdom         7           4             20       London"
      ]
     },
     "execution_count": 4,
     "metadata": {},
     "output_type": "execute_result"
    }
   ],
   "source": [
    "df.tail(10)"
   ]
  },
  {
   "cell_type": "markdown",
   "id": "66524157",
   "metadata": {
    "papermill": {
     "duration": 0.007832,
     "end_time": "2023-03-20T13:48:08.418413",
     "exception": false,
     "start_time": "2023-03-20T13:48:08.410581",
     "status": "completed"
    },
    "tags": []
   },
   "source": [
    "**Pandas two main structures**\n",
    "1 Series\n",
    "2 Dataframes - data in a table"
   ]
  },
  {
   "cell_type": "markdown",
   "id": "a4c529be",
   "metadata": {
    "papermill": {
     "duration": 0.008443,
     "end_time": "2023-03-20T13:48:08.434828",
     "exception": false,
     "start_time": "2023-03-20T13:48:08.426385",
     "status": "completed"
    },
    "tags": []
   },
   "source": [
    "Series data structure:"
   ]
  },
  {
   "cell_type": "code",
   "execution_count": 5,
   "id": "875e1db3",
   "metadata": {
    "execution": {
     "iopub.execute_input": "2023-03-20T13:48:08.453727Z",
     "iopub.status.busy": "2023-03-20T13:48:08.453103Z",
     "iopub.status.idle": "2023-03-20T13:48:08.462269Z",
     "shell.execute_reply": "2023-03-20T13:48:08.461556Z"
    },
    "papermill": {
     "duration": 0.020999,
     "end_time": "2023-03-20T13:48:08.464332",
     "exception": false,
     "start_time": "2023-03-20T13:48:08.443333",
     "status": "completed"
    },
    "tags": []
   },
   "outputs": [
    {
     "data": {
      "text/plain": [
       "0        New Zealand\n",
       "1         North Pole\n",
       "2       Turkmenistan\n",
       "3             Russia\n",
       "4            Austria\n",
       "5              China\n",
       "6              Italy\n",
       "7             France\n",
       "8              India\n",
       "9          Indonesia\n",
       "10             Japan\n",
       "11            Turkey\n",
       "12         Palestine\n",
       "13              Oman\n",
       "14    United Kingdom\n",
       "Name: Destination, dtype: object"
      ]
     },
     "execution_count": 5,
     "metadata": {},
     "output_type": "execute_result"
    }
   ],
   "source": [
    "df.Destination #series display data as a single column"
   ]
  },
  {
   "cell_type": "code",
   "execution_count": 6,
   "id": "3a795c9b",
   "metadata": {
    "execution": {
     "iopub.execute_input": "2023-03-20T13:48:08.483547Z",
     "iopub.status.busy": "2023-03-20T13:48:08.482919Z",
     "iopub.status.idle": "2023-03-20T13:48:08.488684Z",
     "shell.execute_reply": "2023-03-20T13:48:08.487994Z"
    },
    "papermill": {
     "duration": 0.01761,
     "end_time": "2023-03-20T13:48:08.490477",
     "exception": false,
     "start_time": "2023-03-20T13:48:08.472867",
     "status": "completed"
    },
    "tags": []
   },
   "outputs": [
    {
     "data": {
      "text/plain": [
       "Index(['id', 'Destination', 'Feedback', 'Avg Rating', 'All in Hotels',\n",
       "       'Most Popular'],\n",
       "      dtype='object')"
      ]
     },
     "execution_count": 6,
     "metadata": {},
     "output_type": "execute_result"
    }
   ],
   "source": [
    "df.columns #displays titles of all columns"
   ]
  },
  {
   "cell_type": "code",
   "execution_count": 7,
   "id": "7cd911eb",
   "metadata": {
    "execution": {
     "iopub.execute_input": "2023-03-20T13:48:08.509323Z",
     "iopub.status.busy": "2023-03-20T13:48:08.508755Z",
     "iopub.status.idle": "2023-03-20T13:48:08.514130Z",
     "shell.execute_reply": "2023-03-20T13:48:08.512991Z"
    },
    "papermill": {
     "duration": 0.01693,
     "end_time": "2023-03-20T13:48:08.515951",
     "exception": false,
     "start_time": "2023-03-20T13:48:08.499021",
     "status": "completed"
    },
    "tags": []
   },
   "outputs": [
    {
     "data": {
      "text/plain": [
       "RangeIndex(start=0, stop=15, step=1)"
      ]
     },
     "execution_count": 7,
     "metadata": {},
     "output_type": "execute_result"
    }
   ],
   "source": [
    "df.index"
   ]
  },
  {
   "cell_type": "markdown",
   "id": "0f2e8054",
   "metadata": {
    "papermill": {
     "duration": 0.008184,
     "end_time": "2023-03-20T13:48:08.532739",
     "exception": false,
     "start_time": "2023-03-20T13:48:08.524555",
     "status": "completed"
    },
    "tags": []
   },
   "source": [
    "How many rows and columns?"
   ]
  },
  {
   "cell_type": "code",
   "execution_count": 8,
   "id": "9a81f55a",
   "metadata": {
    "execution": {
     "iopub.execute_input": "2023-03-20T13:48:08.551525Z",
     "iopub.status.busy": "2023-03-20T13:48:08.550880Z",
     "iopub.status.idle": "2023-03-20T13:48:08.555964Z",
     "shell.execute_reply": "2023-03-20T13:48:08.555304Z"
    },
    "papermill": {
     "duration": 0.016636,
     "end_time": "2023-03-20T13:48:08.557745",
     "exception": false,
     "start_time": "2023-03-20T13:48:08.541109",
     "status": "completed"
    },
    "tags": []
   },
   "outputs": [
    {
     "data": {
      "text/plain": [
       "(15, 6)"
      ]
     },
     "execution_count": 8,
     "metadata": {},
     "output_type": "execute_result"
    }
   ],
   "source": [
    "df.shape #returns tuple of (rows, columns)"
   ]
  },
  {
   "cell_type": "code",
   "execution_count": 9,
   "id": "edec1314",
   "metadata": {
    "execution": {
     "iopub.execute_input": "2023-03-20T13:48:08.576536Z",
     "iopub.status.busy": "2023-03-20T13:48:08.576048Z",
     "iopub.status.idle": "2023-03-20T13:48:08.581965Z",
     "shell.execute_reply": "2023-03-20T13:48:08.581289Z"
    },
    "papermill": {
     "duration": 0.018312,
     "end_time": "2023-03-20T13:48:08.584589",
     "exception": false,
     "start_time": "2023-03-20T13:48:08.566277",
     "status": "completed"
    },
    "tags": []
   },
   "outputs": [
    {
     "data": {
      "text/plain": [
       "id                int64\n",
       "Destination      object\n",
       "Feedback          int64\n",
       "Avg Rating        int64\n",
       "All in Hotels     int64\n",
       "Most Popular     object\n",
       "dtype: object"
      ]
     },
     "execution_count": 9,
     "metadata": {},
     "output_type": "execute_result"
    }
   ],
   "source": [
    "df.dtypes #display data types - object = string..."
   ]
  },
  {
   "cell_type": "code",
   "execution_count": 10,
   "id": "020ae31d",
   "metadata": {
    "execution": {
     "iopub.execute_input": "2023-03-20T13:48:08.605007Z",
     "iopub.status.busy": "2023-03-20T13:48:08.604444Z",
     "iopub.status.idle": "2023-03-20T13:48:08.624330Z",
     "shell.execute_reply": "2023-03-20T13:48:08.623247Z"
    },
    "papermill": {
     "duration": 0.033005,
     "end_time": "2023-03-20T13:48:08.626614",
     "exception": false,
     "start_time": "2023-03-20T13:48:08.593609",
     "status": "completed"
    },
    "tags": []
   },
   "outputs": [
    {
     "name": "stdout",
     "output_type": "stream",
     "text": [
      "<class 'pandas.core.frame.DataFrame'>\n",
      "RangeIndex: 15 entries, 0 to 14\n",
      "Data columns (total 6 columns):\n",
      " #   Column         Non-Null Count  Dtype \n",
      "---  ------         --------------  ----- \n",
      " 0   id             15 non-null     int64 \n",
      " 1   Destination    15 non-null     object\n",
      " 2   Feedback       15 non-null     int64 \n",
      " 3   Avg Rating     15 non-null     int64 \n",
      " 4   All in Hotels  15 non-null     int64 \n",
      " 5   Most Popular   15 non-null     object\n",
      "dtypes: int64(4), object(2)\n",
      "memory usage: 848.0+ bytes\n"
     ]
    }
   ],
   "source": [
    "df.info() #info about the dataframe"
   ]
  },
  {
   "cell_type": "code",
   "execution_count": 11,
   "id": "8962aa58",
   "metadata": {
    "execution": {
     "iopub.execute_input": "2023-03-20T13:48:08.648640Z",
     "iopub.status.busy": "2023-03-20T13:48:08.648024Z",
     "iopub.status.idle": "2023-03-20T13:48:08.654057Z",
     "shell.execute_reply": "2023-03-20T13:48:08.653320Z"
    },
    "papermill": {
     "duration": 0.018765,
     "end_time": "2023-03-20T13:48:08.656044",
     "exception": false,
     "start_time": "2023-03-20T13:48:08.637279",
     "status": "completed"
    },
    "tags": []
   },
   "outputs": [
    {
     "data": {
      "text/plain": [
       "0      9\n",
       "1      8\n",
       "2      7\n",
       "3      8\n",
       "4      9\n",
       "5      8\n",
       "6      9\n",
       "7      6\n",
       "8      8\n",
       "9      9\n",
       "10    10\n",
       "11     9\n",
       "12     9\n",
       "13     7\n",
       "14     7\n",
       "Name: Feedback, dtype: int64"
      ]
     },
     "execution_count": 11,
     "metadata": {},
     "output_type": "execute_result"
    }
   ],
   "source": [
    "df.Feedback #only the feedback col"
   ]
  },
  {
   "cell_type": "code",
   "execution_count": 12,
   "id": "3d5f5514",
   "metadata": {
    "execution": {
     "iopub.execute_input": "2023-03-20T13:48:08.676041Z",
     "iopub.status.busy": "2023-03-20T13:48:08.675609Z",
     "iopub.status.idle": "2023-03-20T13:48:08.689254Z",
     "shell.execute_reply": "2023-03-20T13:48:08.688252Z"
    },
    "papermill": {
     "duration": 0.025984,
     "end_time": "2023-03-20T13:48:08.691223",
     "exception": false,
     "start_time": "2023-03-20T13:48:08.665239",
     "status": "completed"
    },
    "tags": []
   },
   "outputs": [
    {
     "data": {
      "text/html": [
       "<div>\n",
       "<style scoped>\n",
       "    .dataframe tbody tr th:only-of-type {\n",
       "        vertical-align: middle;\n",
       "    }\n",
       "\n",
       "    .dataframe tbody tr th {\n",
       "        vertical-align: top;\n",
       "    }\n",
       "\n",
       "    .dataframe thead th {\n",
       "        text-align: right;\n",
       "    }\n",
       "</style>\n",
       "<table border=\"1\" class=\"dataframe\">\n",
       "  <thead>\n",
       "    <tr style=\"text-align: right;\">\n",
       "      <th></th>\n",
       "      <th>Destination</th>\n",
       "      <th>Feedback</th>\n",
       "    </tr>\n",
       "  </thead>\n",
       "  <tbody>\n",
       "    <tr>\n",
       "      <th>0</th>\n",
       "      <td>New Zealand</td>\n",
       "      <td>9</td>\n",
       "    </tr>\n",
       "    <tr>\n",
       "      <th>1</th>\n",
       "      <td>North Pole</td>\n",
       "      <td>8</td>\n",
       "    </tr>\n",
       "    <tr>\n",
       "      <th>2</th>\n",
       "      <td>Turkmenistan</td>\n",
       "      <td>7</td>\n",
       "    </tr>\n",
       "    <tr>\n",
       "      <th>3</th>\n",
       "      <td>Russia</td>\n",
       "      <td>8</td>\n",
       "    </tr>\n",
       "    <tr>\n",
       "      <th>4</th>\n",
       "      <td>Austria</td>\n",
       "      <td>9</td>\n",
       "    </tr>\n",
       "  </tbody>\n",
       "</table>\n",
       "</div>"
      ],
      "text/plain": [
       "    Destination  Feedback\n",
       "0   New Zealand         9\n",
       "1    North Pole         8\n",
       "2  Turkmenistan         7\n",
       "3        Russia         8\n",
       "4       Austria         9"
      ]
     },
     "execution_count": 12,
     "metadata": {},
     "output_type": "execute_result"
    }
   ],
   "source": [
    "df[['Destination', 'Feedback']].head() #first 5 of two columns"
   ]
  },
  {
   "cell_type": "code",
   "execution_count": 13,
   "id": "c1aca3f4",
   "metadata": {
    "execution": {
     "iopub.execute_input": "2023-03-20T13:48:08.712092Z",
     "iopub.status.busy": "2023-03-20T13:48:08.711394Z",
     "iopub.status.idle": "2023-03-20T13:48:08.722986Z",
     "shell.execute_reply": "2023-03-20T13:48:08.721511Z"
    },
    "papermill": {
     "duration": 0.024758,
     "end_time": "2023-03-20T13:48:08.725208",
     "exception": false,
     "start_time": "2023-03-20T13:48:08.700450",
     "status": "completed"
    },
    "tags": []
   },
   "outputs": [
    {
     "data": {
      "text/html": [
       "<div>\n",
       "<style scoped>\n",
       "    .dataframe tbody tr th:only-of-type {\n",
       "        vertical-align: middle;\n",
       "    }\n",
       "\n",
       "    .dataframe tbody tr th {\n",
       "        vertical-align: top;\n",
       "    }\n",
       "\n",
       "    .dataframe thead th {\n",
       "        text-align: right;\n",
       "    }\n",
       "</style>\n",
       "<table border=\"1\" class=\"dataframe\">\n",
       "  <thead>\n",
       "    <tr style=\"text-align: right;\">\n",
       "      <th></th>\n",
       "      <th>id</th>\n",
       "      <th>Destination</th>\n",
       "      <th>Feedback</th>\n",
       "      <th>Avg Rating</th>\n",
       "      <th>All in Hotels</th>\n",
       "      <th>Most Popular</th>\n",
       "    </tr>\n",
       "  </thead>\n",
       "  <tbody>\n",
       "    <tr>\n",
       "      <th>3</th>\n",
       "      <td>4</td>\n",
       "      <td>Russia</td>\n",
       "      <td>8</td>\n",
       "      <td>5</td>\n",
       "      <td>17</td>\n",
       "      <td>Yakaterinburg</td>\n",
       "    </tr>\n",
       "    <tr>\n",
       "      <th>4</th>\n",
       "      <td>5</td>\n",
       "      <td>Austria</td>\n",
       "      <td>9</td>\n",
       "      <td>4</td>\n",
       "      <td>12</td>\n",
       "      <td>Hinterbruhl</td>\n",
       "    </tr>\n",
       "    <tr>\n",
       "      <th>5</th>\n",
       "      <td>6</td>\n",
       "      <td>China</td>\n",
       "      <td>8</td>\n",
       "      <td>3</td>\n",
       "      <td>198</td>\n",
       "      <td>Xinjiang</td>\n",
       "    </tr>\n",
       "    <tr>\n",
       "      <th>6</th>\n",
       "      <td>7</td>\n",
       "      <td>Italy</td>\n",
       "      <td>9</td>\n",
       "      <td>5</td>\n",
       "      <td>76</td>\n",
       "      <td>Puglia</td>\n",
       "    </tr>\n",
       "    <tr>\n",
       "      <th>7</th>\n",
       "      <td>8</td>\n",
       "      <td>France</td>\n",
       "      <td>6</td>\n",
       "      <td>3</td>\n",
       "      <td>24</td>\n",
       "      <td>Nantes</td>\n",
       "    </tr>\n",
       "    <tr>\n",
       "      <th>8</th>\n",
       "      <td>9</td>\n",
       "      <td>India</td>\n",
       "      <td>8</td>\n",
       "      <td>3</td>\n",
       "      <td>45</td>\n",
       "      <td>Ladakh</td>\n",
       "    </tr>\n",
       "    <tr>\n",
       "      <th>9</th>\n",
       "      <td>10</td>\n",
       "      <td>Indonesia</td>\n",
       "      <td>9</td>\n",
       "      <td>4</td>\n",
       "      <td>80</td>\n",
       "      <td>Aceh</td>\n",
       "    </tr>\n",
       "  </tbody>\n",
       "</table>\n",
       "</div>"
      ],
      "text/plain": [
       "   id Destination  Feedback  Avg Rating  All in Hotels   Most Popular\n",
       "3   4      Russia         8           5             17  Yakaterinburg\n",
       "4   5     Austria         9           4             12    Hinterbruhl\n",
       "5   6       China         8           3            198       Xinjiang\n",
       "6   7       Italy         9           5             76         Puglia\n",
       "7   8      France         6           3             24         Nantes\n",
       "8   9       India         8           3             45         Ladakh\n",
       "9  10   Indonesia         9           4             80           Aceh"
      ]
     },
     "execution_count": 13,
     "metadata": {},
     "output_type": "execute_result"
    }
   ],
   "source": [
    "#use indexing to select rows 3 to 9\n",
    "df[3:10]"
   ]
  },
  {
   "cell_type": "code",
   "execution_count": 14,
   "id": "b06a840f",
   "metadata": {
    "execution": {
     "iopub.execute_input": "2023-03-20T13:48:08.749780Z",
     "iopub.status.busy": "2023-03-20T13:48:08.749140Z",
     "iopub.status.idle": "2023-03-20T13:48:08.758969Z",
     "shell.execute_reply": "2023-03-20T13:48:08.758095Z"
    },
    "papermill": {
     "duration": 0.025389,
     "end_time": "2023-03-20T13:48:08.761081",
     "exception": false,
     "start_time": "2023-03-20T13:48:08.735692",
     "status": "completed"
    },
    "tags": []
   },
   "outputs": [
    {
     "data": {
      "text/html": [
       "<div>\n",
       "<style scoped>\n",
       "    .dataframe tbody tr th:only-of-type {\n",
       "        vertical-align: middle;\n",
       "    }\n",
       "\n",
       "    .dataframe tbody tr th {\n",
       "        vertical-align: top;\n",
       "    }\n",
       "\n",
       "    .dataframe thead th {\n",
       "        text-align: right;\n",
       "    }\n",
       "</style>\n",
       "<table border=\"1\" class=\"dataframe\">\n",
       "  <thead>\n",
       "    <tr style=\"text-align: right;\">\n",
       "      <th></th>\n",
       "      <th>Destination</th>\n",
       "      <th>Feedback</th>\n",
       "      <th>Avg Rating</th>\n",
       "    </tr>\n",
       "  </thead>\n",
       "  <tbody>\n",
       "    <tr>\n",
       "      <th>1</th>\n",
       "      <td>North Pole</td>\n",
       "      <td>8</td>\n",
       "      <td>4</td>\n",
       "    </tr>\n",
       "    <tr>\n",
       "      <th>2</th>\n",
       "      <td>Turkmenistan</td>\n",
       "      <td>7</td>\n",
       "      <td>3</td>\n",
       "    </tr>\n",
       "    <tr>\n",
       "      <th>3</th>\n",
       "      <td>Russia</td>\n",
       "      <td>8</td>\n",
       "      <td>5</td>\n",
       "    </tr>\n",
       "  </tbody>\n",
       "</table>\n",
       "</div>"
      ],
      "text/plain": [
       "    Destination  Feedback  Avg Rating\n",
       "1    North Pole         8           4\n",
       "2  Turkmenistan         7           3\n",
       "3        Russia         8           5"
      ]
     },
     "execution_count": 14,
     "metadata": {},
     "output_type": "execute_result"
    }
   ],
   "source": [
    "#use df.iloc[start:stop, [col1, col2, col3]]\n",
    "df.iloc[1:4, [1,2,3]]"
   ]
  },
  {
   "cell_type": "code",
   "execution_count": 15,
   "id": "020bf3a4",
   "metadata": {
    "execution": {
     "iopub.execute_input": "2023-03-20T13:48:08.784177Z",
     "iopub.status.busy": "2023-03-20T13:48:08.783519Z",
     "iopub.status.idle": "2023-03-20T13:48:08.790365Z",
     "shell.execute_reply": "2023-03-20T13:48:08.789550Z"
    },
    "papermill": {
     "duration": 0.019621,
     "end_time": "2023-03-20T13:48:08.792259",
     "exception": false,
     "start_time": "2023-03-20T13:48:08.772638",
     "status": "completed"
    },
    "tags": []
   },
   "outputs": [
    {
     "data": {
      "text/plain": [
       "1    4\n",
       "2    3\n",
       "3    5\n",
       "4    4\n",
       "5    3\n",
       "Name: Avg Rating, dtype: int64"
      ]
     },
     "execution_count": 15,
     "metadata": {},
     "output_type": "execute_result"
    }
   ],
   "source": [
    "#use  loc() to get  data from a column\n",
    "df.loc[1:5, 'Avg Rating']"
   ]
  },
  {
   "cell_type": "markdown",
   "id": "45bece79",
   "metadata": {
    "papermill": {
     "duration": 0.009762,
     "end_time": "2023-03-20T13:48:08.811528",
     "exception": false,
     "start_time": "2023-03-20T13:48:08.801766",
     "status": "completed"
    },
    "tags": []
   },
   "source": [
    "Renaming a column..."
   ]
  },
  {
   "cell_type": "code",
   "execution_count": 16,
   "id": "cdbdfcd7",
   "metadata": {
    "execution": {
     "iopub.execute_input": "2023-03-20T13:48:08.833051Z",
     "iopub.status.busy": "2023-03-20T13:48:08.832386Z",
     "iopub.status.idle": "2023-03-20T13:48:08.844893Z",
     "shell.execute_reply": "2023-03-20T13:48:08.843962Z"
    },
    "papermill": {
     "duration": 0.02555,
     "end_time": "2023-03-20T13:48:08.846872",
     "exception": false,
     "start_time": "2023-03-20T13:48:08.821322",
     "status": "completed"
    },
    "tags": []
   },
   "outputs": [
    {
     "data": {
      "text/html": [
       "<div>\n",
       "<style scoped>\n",
       "    .dataframe tbody tr th:only-of-type {\n",
       "        vertical-align: middle;\n",
       "    }\n",
       "\n",
       "    .dataframe tbody tr th {\n",
       "        vertical-align: top;\n",
       "    }\n",
       "\n",
       "    .dataframe thead th {\n",
       "        text-align: right;\n",
       "    }\n",
       "</style>\n",
       "<table border=\"1\" class=\"dataframe\">\n",
       "  <thead>\n",
       "    <tr style=\"text-align: right;\">\n",
       "      <th></th>\n",
       "      <th>id</th>\n",
       "      <th>Destination</th>\n",
       "      <th>Feedback</th>\n",
       "      <th>Avg_Rating</th>\n",
       "      <th>All in Hotels</th>\n",
       "      <th>Most Popular</th>\n",
       "    </tr>\n",
       "  </thead>\n",
       "  <tbody>\n",
       "    <tr>\n",
       "      <th>0</th>\n",
       "      <td>1</td>\n",
       "      <td>New Zealand</td>\n",
       "      <td>9</td>\n",
       "      <td>4</td>\n",
       "      <td>5</td>\n",
       "      <td>Rotura</td>\n",
       "    </tr>\n",
       "    <tr>\n",
       "      <th>1</th>\n",
       "      <td>2</td>\n",
       "      <td>North Pole</td>\n",
       "      <td>8</td>\n",
       "      <td>4</td>\n",
       "      <td>6</td>\n",
       "      <td>Svalbard</td>\n",
       "    </tr>\n",
       "    <tr>\n",
       "      <th>2</th>\n",
       "      <td>3</td>\n",
       "      <td>Turkmenistan</td>\n",
       "      <td>7</td>\n",
       "      <td>3</td>\n",
       "      <td>9</td>\n",
       "      <td>Derweze</td>\n",
       "    </tr>\n",
       "    <tr>\n",
       "      <th>3</th>\n",
       "      <td>4</td>\n",
       "      <td>Russia</td>\n",
       "      <td>8</td>\n",
       "      <td>5</td>\n",
       "      <td>17</td>\n",
       "      <td>Yakaterinburg</td>\n",
       "    </tr>\n",
       "    <tr>\n",
       "      <th>4</th>\n",
       "      <td>5</td>\n",
       "      <td>Austria</td>\n",
       "      <td>9</td>\n",
       "      <td>4</td>\n",
       "      <td>12</td>\n",
       "      <td>Hinterbruhl</td>\n",
       "    </tr>\n",
       "  </tbody>\n",
       "</table>\n",
       "</div>"
      ],
      "text/plain": [
       "   id   Destination  Feedback  Avg_Rating  All in Hotels   Most Popular\n",
       "0   1   New Zealand         9           4              5         Rotura\n",
       "1   2    North Pole         8           4              6       Svalbard\n",
       "2   3  Turkmenistan         7           3              9        Derweze\n",
       "3   4        Russia         8           5             17  Yakaterinburg\n",
       "4   5       Austria         9           4             12    Hinterbruhl"
      ]
     },
     "execution_count": 16,
     "metadata": {},
     "output_type": "execute_result"
    }
   ],
   "source": [
    "df.rename(columns = {'Avg Rating' : 'Avg_Rating'}).head()"
   ]
  },
  {
   "cell_type": "code",
   "execution_count": 17,
   "id": "46d61a6f",
   "metadata": {
    "execution": {
     "iopub.execute_input": "2023-03-20T13:48:08.868410Z",
     "iopub.status.busy": "2023-03-20T13:48:08.867728Z",
     "iopub.status.idle": "2023-03-20T13:48:08.878791Z",
     "shell.execute_reply": "2023-03-20T13:48:08.877873Z"
    },
    "papermill": {
     "duration": 0.024083,
     "end_time": "2023-03-20T13:48:08.880723",
     "exception": false,
     "start_time": "2023-03-20T13:48:08.856640",
     "status": "completed"
    },
    "tags": []
   },
   "outputs": [
    {
     "data": {
      "text/html": [
       "<div>\n",
       "<style scoped>\n",
       "    .dataframe tbody tr th:only-of-type {\n",
       "        vertical-align: middle;\n",
       "    }\n",
       "\n",
       "    .dataframe tbody tr th {\n",
       "        vertical-align: top;\n",
       "    }\n",
       "\n",
       "    .dataframe thead th {\n",
       "        text-align: right;\n",
       "    }\n",
       "</style>\n",
       "<table border=\"1\" class=\"dataframe\">\n",
       "  <thead>\n",
       "    <tr style=\"text-align: right;\">\n",
       "      <th></th>\n",
       "      <th>id</th>\n",
       "      <th>Destination</th>\n",
       "      <th>Feedback</th>\n",
       "      <th>Avg Rating</th>\n",
       "      <th>Hotel_Count</th>\n",
       "      <th>Most Popular</th>\n",
       "    </tr>\n",
       "  </thead>\n",
       "  <tbody>\n",
       "    <tr>\n",
       "      <th>0</th>\n",
       "      <td>1</td>\n",
       "      <td>New Zealand</td>\n",
       "      <td>9</td>\n",
       "      <td>4</td>\n",
       "      <td>5</td>\n",
       "      <td>Rotura</td>\n",
       "    </tr>\n",
       "    <tr>\n",
       "      <th>1</th>\n",
       "      <td>2</td>\n",
       "      <td>North Pole</td>\n",
       "      <td>8</td>\n",
       "      <td>4</td>\n",
       "      <td>6</td>\n",
       "      <td>Svalbard</td>\n",
       "    </tr>\n",
       "    <tr>\n",
       "      <th>2</th>\n",
       "      <td>3</td>\n",
       "      <td>Turkmenistan</td>\n",
       "      <td>7</td>\n",
       "      <td>3</td>\n",
       "      <td>9</td>\n",
       "      <td>Derweze</td>\n",
       "    </tr>\n",
       "    <tr>\n",
       "      <th>3</th>\n",
       "      <td>4</td>\n",
       "      <td>Russia</td>\n",
       "      <td>8</td>\n",
       "      <td>5</td>\n",
       "      <td>17</td>\n",
       "      <td>Yakaterinburg</td>\n",
       "    </tr>\n",
       "    <tr>\n",
       "      <th>4</th>\n",
       "      <td>5</td>\n",
       "      <td>Austria</td>\n",
       "      <td>9</td>\n",
       "      <td>4</td>\n",
       "      <td>12</td>\n",
       "      <td>Hinterbruhl</td>\n",
       "    </tr>\n",
       "  </tbody>\n",
       "</table>\n",
       "</div>"
      ],
      "text/plain": [
       "   id   Destination  Feedback  Avg Rating  Hotel_Count   Most Popular\n",
       "0   1   New Zealand         9           4            5         Rotura\n",
       "1   2    North Pole         8           4            6       Svalbard\n",
       "2   3  Turkmenistan         7           3            9        Derweze\n",
       "3   4        Russia         8           5           17  Yakaterinburg\n",
       "4   5       Austria         9           4           12    Hinterbruhl"
      ]
     },
     "execution_count": 17,
     "metadata": {},
     "output_type": "execute_result"
    }
   ],
   "source": [
    "df.rename(columns = {'All in Hotels' : 'Hotel_Count'}).head()"
   ]
  },
  {
   "cell_type": "markdown",
   "id": "988d699d",
   "metadata": {
    "papermill": {
     "duration": 0.009376,
     "end_time": "2023-03-20T13:48:08.899900",
     "exception": false,
     "start_time": "2023-03-20T13:48:08.890524",
     "status": "completed"
    },
    "tags": []
   },
   "source": [
    "#Statistical Analysis"
   ]
  },
  {
   "cell_type": "code",
   "execution_count": 18,
   "id": "d87634b7",
   "metadata": {
    "execution": {
     "iopub.execute_input": "2023-03-20T13:48:08.921612Z",
     "iopub.status.busy": "2023-03-20T13:48:08.920963Z",
     "iopub.status.idle": "2023-03-20T13:48:08.944785Z",
     "shell.execute_reply": "2023-03-20T13:48:08.943528Z"
    },
    "papermill": {
     "duration": 0.037561,
     "end_time": "2023-03-20T13:48:08.947352",
     "exception": false,
     "start_time": "2023-03-20T13:48:08.909791",
     "status": "completed"
    },
    "tags": []
   },
   "outputs": [
    {
     "data": {
      "text/html": [
       "<div>\n",
       "<style scoped>\n",
       "    .dataframe tbody tr th:only-of-type {\n",
       "        vertical-align: middle;\n",
       "    }\n",
       "\n",
       "    .dataframe tbody tr th {\n",
       "        vertical-align: top;\n",
       "    }\n",
       "\n",
       "    .dataframe thead th {\n",
       "        text-align: right;\n",
       "    }\n",
       "</style>\n",
       "<table border=\"1\" class=\"dataframe\">\n",
       "  <thead>\n",
       "    <tr style=\"text-align: right;\">\n",
       "      <th></th>\n",
       "      <th>id</th>\n",
       "      <th>Feedback</th>\n",
       "      <th>Avg Rating</th>\n",
       "      <th>All in Hotels</th>\n",
       "    </tr>\n",
       "  </thead>\n",
       "  <tbody>\n",
       "    <tr>\n",
       "      <th>count</th>\n",
       "      <td>15.000000</td>\n",
       "      <td>15.000000</td>\n",
       "      <td>15.000000</td>\n",
       "      <td>15.000000</td>\n",
       "    </tr>\n",
       "    <tr>\n",
       "      <th>mean</th>\n",
       "      <td>8.000000</td>\n",
       "      <td>8.200000</td>\n",
       "      <td>3.933333</td>\n",
       "      <td>42.866667</td>\n",
       "    </tr>\n",
       "    <tr>\n",
       "      <th>std</th>\n",
       "      <td>4.472136</td>\n",
       "      <td>1.082326</td>\n",
       "      <td>0.798809</td>\n",
       "      <td>52.398019</td>\n",
       "    </tr>\n",
       "    <tr>\n",
       "      <th>min</th>\n",
       "      <td>1.000000</td>\n",
       "      <td>6.000000</td>\n",
       "      <td>3.000000</td>\n",
       "      <td>2.000000</td>\n",
       "    </tr>\n",
       "    <tr>\n",
       "      <th>25%</th>\n",
       "      <td>4.500000</td>\n",
       "      <td>7.500000</td>\n",
       "      <td>3.000000</td>\n",
       "      <td>7.500000</td>\n",
       "    </tr>\n",
       "    <tr>\n",
       "      <th>50%</th>\n",
       "      <td>8.000000</td>\n",
       "      <td>8.000000</td>\n",
       "      <td>4.000000</td>\n",
       "      <td>20.000000</td>\n",
       "    </tr>\n",
       "    <tr>\n",
       "      <th>75%</th>\n",
       "      <td>11.500000</td>\n",
       "      <td>9.000000</td>\n",
       "      <td>4.500000</td>\n",
       "      <td>65.000000</td>\n",
       "    </tr>\n",
       "    <tr>\n",
       "      <th>max</th>\n",
       "      <td>15.000000</td>\n",
       "      <td>10.000000</td>\n",
       "      <td>5.000000</td>\n",
       "      <td>198.000000</td>\n",
       "    </tr>\n",
       "  </tbody>\n",
       "</table>\n",
       "</div>"
      ],
      "text/plain": [
       "              id   Feedback  Avg Rating  All in Hotels\n",
       "count  15.000000  15.000000   15.000000      15.000000\n",
       "mean    8.000000   8.200000    3.933333      42.866667\n",
       "std     4.472136   1.082326    0.798809      52.398019\n",
       "min     1.000000   6.000000    3.000000       2.000000\n",
       "25%     4.500000   7.500000    3.000000       7.500000\n",
       "50%     8.000000   8.000000    4.000000      20.000000\n",
       "75%    11.500000   9.000000    4.500000      65.000000\n",
       "max    15.000000  10.000000    5.000000     198.000000"
      ]
     },
     "execution_count": 18,
     "metadata": {},
     "output_type": "execute_result"
    }
   ],
   "source": [
    "df.describe() #get  statistical analysis"
   ]
  },
  {
   "cell_type": "code",
   "execution_count": 19,
   "id": "b772dcb4",
   "metadata": {
    "execution": {
     "iopub.execute_input": "2023-03-20T13:48:08.970055Z",
     "iopub.status.busy": "2023-03-20T13:48:08.969639Z",
     "iopub.status.idle": "2023-03-20T13:48:08.983590Z",
     "shell.execute_reply": "2023-03-20T13:48:08.982450Z"
    },
    "papermill": {
     "duration": 0.028022,
     "end_time": "2023-03-20T13:48:08.985682",
     "exception": false,
     "start_time": "2023-03-20T13:48:08.957660",
     "status": "completed"
    },
    "tags": []
   },
   "outputs": [
    {
     "data": {
      "text/html": [
       "<div>\n",
       "<style scoped>\n",
       "    .dataframe tbody tr th:only-of-type {\n",
       "        vertical-align: middle;\n",
       "    }\n",
       "\n",
       "    .dataframe tbody tr th {\n",
       "        vertical-align: top;\n",
       "    }\n",
       "\n",
       "    .dataframe thead th {\n",
       "        text-align: right;\n",
       "    }\n",
       "</style>\n",
       "<table border=\"1\" class=\"dataframe\">\n",
       "  <thead>\n",
       "    <tr style=\"text-align: right;\">\n",
       "      <th></th>\n",
       "      <th>id</th>\n",
       "      <th>Destination</th>\n",
       "      <th>Feedback</th>\n",
       "      <th>Avg Rating</th>\n",
       "      <th>All in Hotels</th>\n",
       "      <th>Most Popular</th>\n",
       "    </tr>\n",
       "  </thead>\n",
       "  <tbody>\n",
       "    <tr>\n",
       "      <th>7</th>\n",
       "      <td>8</td>\n",
       "      <td>France</td>\n",
       "      <td>6</td>\n",
       "      <td>3</td>\n",
       "      <td>24</td>\n",
       "      <td>Nantes</td>\n",
       "    </tr>\n",
       "    <tr>\n",
       "      <th>2</th>\n",
       "      <td>3</td>\n",
       "      <td>Turkmenistan</td>\n",
       "      <td>7</td>\n",
       "      <td>3</td>\n",
       "      <td>9</td>\n",
       "      <td>Derweze</td>\n",
       "    </tr>\n",
       "    <tr>\n",
       "      <th>13</th>\n",
       "      <td>14</td>\n",
       "      <td>Oman</td>\n",
       "      <td>7</td>\n",
       "      <td>5</td>\n",
       "      <td>2</td>\n",
       "      <td>Bahla</td>\n",
       "    </tr>\n",
       "    <tr>\n",
       "      <th>14</th>\n",
       "      <td>15</td>\n",
       "      <td>United Kingdom</td>\n",
       "      <td>7</td>\n",
       "      <td>4</td>\n",
       "      <td>20</td>\n",
       "      <td>London</td>\n",
       "    </tr>\n",
       "    <tr>\n",
       "      <th>1</th>\n",
       "      <td>2</td>\n",
       "      <td>North Pole</td>\n",
       "      <td>8</td>\n",
       "      <td>4</td>\n",
       "      <td>6</td>\n",
       "      <td>Svalbard</td>\n",
       "    </tr>\n",
       "    <tr>\n",
       "      <th>3</th>\n",
       "      <td>4</td>\n",
       "      <td>Russia</td>\n",
       "      <td>8</td>\n",
       "      <td>5</td>\n",
       "      <td>17</td>\n",
       "      <td>Yakaterinburg</td>\n",
       "    </tr>\n",
       "    <tr>\n",
       "      <th>5</th>\n",
       "      <td>6</td>\n",
       "      <td>China</td>\n",
       "      <td>8</td>\n",
       "      <td>3</td>\n",
       "      <td>198</td>\n",
       "      <td>Xinjiang</td>\n",
       "    </tr>\n",
       "    <tr>\n",
       "      <th>8</th>\n",
       "      <td>9</td>\n",
       "      <td>India</td>\n",
       "      <td>8</td>\n",
       "      <td>3</td>\n",
       "      <td>45</td>\n",
       "      <td>Ladakh</td>\n",
       "    </tr>\n",
       "    <tr>\n",
       "      <th>0</th>\n",
       "      <td>1</td>\n",
       "      <td>New Zealand</td>\n",
       "      <td>9</td>\n",
       "      <td>4</td>\n",
       "      <td>5</td>\n",
       "      <td>Rotura</td>\n",
       "    </tr>\n",
       "    <tr>\n",
       "      <th>4</th>\n",
       "      <td>5</td>\n",
       "      <td>Austria</td>\n",
       "      <td>9</td>\n",
       "      <td>4</td>\n",
       "      <td>12</td>\n",
       "      <td>Hinterbruhl</td>\n",
       "    </tr>\n",
       "    <tr>\n",
       "      <th>6</th>\n",
       "      <td>7</td>\n",
       "      <td>Italy</td>\n",
       "      <td>9</td>\n",
       "      <td>5</td>\n",
       "      <td>76</td>\n",
       "      <td>Puglia</td>\n",
       "    </tr>\n",
       "    <tr>\n",
       "      <th>9</th>\n",
       "      <td>10</td>\n",
       "      <td>Indonesia</td>\n",
       "      <td>9</td>\n",
       "      <td>4</td>\n",
       "      <td>80</td>\n",
       "      <td>Aceh</td>\n",
       "    </tr>\n",
       "    <tr>\n",
       "      <th>11</th>\n",
       "      <td>12</td>\n",
       "      <td>Turkey</td>\n",
       "      <td>9</td>\n",
       "      <td>4</td>\n",
       "      <td>54</td>\n",
       "      <td>Faralya</td>\n",
       "    </tr>\n",
       "    <tr>\n",
       "      <th>12</th>\n",
       "      <td>13</td>\n",
       "      <td>Palestine</td>\n",
       "      <td>9</td>\n",
       "      <td>3</td>\n",
       "      <td>5</td>\n",
       "      <td>Jerusalem</td>\n",
       "    </tr>\n",
       "    <tr>\n",
       "      <th>10</th>\n",
       "      <td>11</td>\n",
       "      <td>Japan</td>\n",
       "      <td>10</td>\n",
       "      <td>5</td>\n",
       "      <td>90</td>\n",
       "      <td>Beppu</td>\n",
       "    </tr>\n",
       "  </tbody>\n",
       "</table>\n",
       "</div>"
      ],
      "text/plain": [
       "    id     Destination  Feedback  Avg Rating  All in Hotels   Most Popular\n",
       "7    8          France         6           3             24         Nantes\n",
       "2    3    Turkmenistan         7           3              9        Derweze\n",
       "13  14            Oman         7           5              2          Bahla\n",
       "14  15  United Kingdom         7           4             20         London\n",
       "1    2      North Pole         8           4              6       Svalbard\n",
       "3    4          Russia         8           5             17  Yakaterinburg\n",
       "5    6           China         8           3            198       Xinjiang\n",
       "8    9           India         8           3             45         Ladakh\n",
       "0    1     New Zealand         9           4              5         Rotura\n",
       "4    5         Austria         9           4             12    Hinterbruhl\n",
       "6    7           Italy         9           5             76         Puglia\n",
       "9   10       Indonesia         9           4             80           Aceh\n",
       "11  12          Turkey         9           4             54        Faralya\n",
       "12  13       Palestine         9           3              5      Jerusalem\n",
       "10  11           Japan        10           5             90          Beppu"
      ]
     },
     "execution_count": 19,
     "metadata": {},
     "output_type": "execute_result"
    }
   ],
   "source": [
    "df.sort_values('Feedback') #sorts table low to high by the column specified"
   ]
  },
  {
   "cell_type": "code",
   "execution_count": 20,
   "id": "7e7b7fc9",
   "metadata": {
    "execution": {
     "iopub.execute_input": "2023-03-20T13:48:09.008868Z",
     "iopub.status.busy": "2023-03-20T13:48:09.008509Z",
     "iopub.status.idle": "2023-03-20T13:48:09.023050Z",
     "shell.execute_reply": "2023-03-20T13:48:09.021764Z"
    },
    "papermill": {
     "duration": 0.028563,
     "end_time": "2023-03-20T13:48:09.025363",
     "exception": false,
     "start_time": "2023-03-20T13:48:08.996800",
     "status": "completed"
    },
    "tags": []
   },
   "outputs": [
    {
     "data": {
      "text/html": [
       "<div>\n",
       "<style scoped>\n",
       "    .dataframe tbody tr th:only-of-type {\n",
       "        vertical-align: middle;\n",
       "    }\n",
       "\n",
       "    .dataframe tbody tr th {\n",
       "        vertical-align: top;\n",
       "    }\n",
       "\n",
       "    .dataframe thead th {\n",
       "        text-align: right;\n",
       "    }\n",
       "</style>\n",
       "<table border=\"1\" class=\"dataframe\">\n",
       "  <thead>\n",
       "    <tr style=\"text-align: right;\">\n",
       "      <th></th>\n",
       "      <th>id</th>\n",
       "      <th>Destination</th>\n",
       "      <th>Feedback</th>\n",
       "      <th>Avg Rating</th>\n",
       "      <th>All in Hotels</th>\n",
       "      <th>Most Popular</th>\n",
       "    </tr>\n",
       "  </thead>\n",
       "  <tbody>\n",
       "    <tr>\n",
       "      <th>10</th>\n",
       "      <td>11</td>\n",
       "      <td>Japan</td>\n",
       "      <td>10</td>\n",
       "      <td>5</td>\n",
       "      <td>90</td>\n",
       "      <td>Beppu</td>\n",
       "    </tr>\n",
       "    <tr>\n",
       "      <th>0</th>\n",
       "      <td>1</td>\n",
       "      <td>New Zealand</td>\n",
       "      <td>9</td>\n",
       "      <td>4</td>\n",
       "      <td>5</td>\n",
       "      <td>Rotura</td>\n",
       "    </tr>\n",
       "    <tr>\n",
       "      <th>4</th>\n",
       "      <td>5</td>\n",
       "      <td>Austria</td>\n",
       "      <td>9</td>\n",
       "      <td>4</td>\n",
       "      <td>12</td>\n",
       "      <td>Hinterbruhl</td>\n",
       "    </tr>\n",
       "    <tr>\n",
       "      <th>6</th>\n",
       "      <td>7</td>\n",
       "      <td>Italy</td>\n",
       "      <td>9</td>\n",
       "      <td>5</td>\n",
       "      <td>76</td>\n",
       "      <td>Puglia</td>\n",
       "    </tr>\n",
       "    <tr>\n",
       "      <th>9</th>\n",
       "      <td>10</td>\n",
       "      <td>Indonesia</td>\n",
       "      <td>9</td>\n",
       "      <td>4</td>\n",
       "      <td>80</td>\n",
       "      <td>Aceh</td>\n",
       "    </tr>\n",
       "    <tr>\n",
       "      <th>11</th>\n",
       "      <td>12</td>\n",
       "      <td>Turkey</td>\n",
       "      <td>9</td>\n",
       "      <td>4</td>\n",
       "      <td>54</td>\n",
       "      <td>Faralya</td>\n",
       "    </tr>\n",
       "    <tr>\n",
       "      <th>12</th>\n",
       "      <td>13</td>\n",
       "      <td>Palestine</td>\n",
       "      <td>9</td>\n",
       "      <td>3</td>\n",
       "      <td>5</td>\n",
       "      <td>Jerusalem</td>\n",
       "    </tr>\n",
       "    <tr>\n",
       "      <th>1</th>\n",
       "      <td>2</td>\n",
       "      <td>North Pole</td>\n",
       "      <td>8</td>\n",
       "      <td>4</td>\n",
       "      <td>6</td>\n",
       "      <td>Svalbard</td>\n",
       "    </tr>\n",
       "    <tr>\n",
       "      <th>3</th>\n",
       "      <td>4</td>\n",
       "      <td>Russia</td>\n",
       "      <td>8</td>\n",
       "      <td>5</td>\n",
       "      <td>17</td>\n",
       "      <td>Yakaterinburg</td>\n",
       "    </tr>\n",
       "    <tr>\n",
       "      <th>5</th>\n",
       "      <td>6</td>\n",
       "      <td>China</td>\n",
       "      <td>8</td>\n",
       "      <td>3</td>\n",
       "      <td>198</td>\n",
       "      <td>Xinjiang</td>\n",
       "    </tr>\n",
       "    <tr>\n",
       "      <th>8</th>\n",
       "      <td>9</td>\n",
       "      <td>India</td>\n",
       "      <td>8</td>\n",
       "      <td>3</td>\n",
       "      <td>45</td>\n",
       "      <td>Ladakh</td>\n",
       "    </tr>\n",
       "    <tr>\n",
       "      <th>2</th>\n",
       "      <td>3</td>\n",
       "      <td>Turkmenistan</td>\n",
       "      <td>7</td>\n",
       "      <td>3</td>\n",
       "      <td>9</td>\n",
       "      <td>Derweze</td>\n",
       "    </tr>\n",
       "    <tr>\n",
       "      <th>13</th>\n",
       "      <td>14</td>\n",
       "      <td>Oman</td>\n",
       "      <td>7</td>\n",
       "      <td>5</td>\n",
       "      <td>2</td>\n",
       "      <td>Bahla</td>\n",
       "    </tr>\n",
       "    <tr>\n",
       "      <th>14</th>\n",
       "      <td>15</td>\n",
       "      <td>United Kingdom</td>\n",
       "      <td>7</td>\n",
       "      <td>4</td>\n",
       "      <td>20</td>\n",
       "      <td>London</td>\n",
       "    </tr>\n",
       "    <tr>\n",
       "      <th>7</th>\n",
       "      <td>8</td>\n",
       "      <td>France</td>\n",
       "      <td>6</td>\n",
       "      <td>3</td>\n",
       "      <td>24</td>\n",
       "      <td>Nantes</td>\n",
       "    </tr>\n",
       "  </tbody>\n",
       "</table>\n",
       "</div>"
      ],
      "text/plain": [
       "    id     Destination  Feedback  Avg Rating  All in Hotels   Most Popular\n",
       "10  11           Japan        10           5             90          Beppu\n",
       "0    1     New Zealand         9           4              5         Rotura\n",
       "4    5         Austria         9           4             12    Hinterbruhl\n",
       "6    7           Italy         9           5             76         Puglia\n",
       "9   10       Indonesia         9           4             80           Aceh\n",
       "11  12          Turkey         9           4             54        Faralya\n",
       "12  13       Palestine         9           3              5      Jerusalem\n",
       "1    2      North Pole         8           4              6       Svalbard\n",
       "3    4          Russia         8           5             17  Yakaterinburg\n",
       "5    6           China         8           3            198       Xinjiang\n",
       "8    9           India         8           3             45         Ladakh\n",
       "2    3    Turkmenistan         7           3              9        Derweze\n",
       "13  14            Oman         7           5              2          Bahla\n",
       "14  15  United Kingdom         7           4             20         London\n",
       "7    8          France         6           3             24         Nantes"
      ]
     },
     "execution_count": 20,
     "metadata": {},
     "output_type": "execute_result"
    }
   ],
   "source": [
    "df.sort_values('Feedback', ascending = False) #sorts table high to low by the column specified"
   ]
  },
  {
   "cell_type": "code",
   "execution_count": 21,
   "id": "8ed44372",
   "metadata": {
    "execution": {
     "iopub.execute_input": "2023-03-20T13:48:09.050439Z",
     "iopub.status.busy": "2023-03-20T13:48:09.050064Z",
     "iopub.status.idle": "2023-03-20T13:48:09.068456Z",
     "shell.execute_reply": "2023-03-20T13:48:09.067193Z"
    },
    "papermill": {
     "duration": 0.033072,
     "end_time": "2023-03-20T13:48:09.070494",
     "exception": false,
     "start_time": "2023-03-20T13:48:09.037422",
     "status": "completed"
    },
    "tags": []
   },
   "outputs": [
    {
     "data": {
      "text/html": [
       "<div>\n",
       "<style scoped>\n",
       "    .dataframe tbody tr th:only-of-type {\n",
       "        vertical-align: middle;\n",
       "    }\n",
       "\n",
       "    .dataframe tbody tr th {\n",
       "        vertical-align: top;\n",
       "    }\n",
       "\n",
       "    .dataframe thead th {\n",
       "        text-align: right;\n",
       "    }\n",
       "</style>\n",
       "<table border=\"1\" class=\"dataframe\">\n",
       "  <thead>\n",
       "    <tr style=\"text-align: right;\">\n",
       "      <th></th>\n",
       "      <th>id</th>\n",
       "      <th>Destination</th>\n",
       "      <th>Feedback</th>\n",
       "      <th>Avg Rating</th>\n",
       "      <th>All in Hotels</th>\n",
       "      <th>Most Popular</th>\n",
       "    </tr>\n",
       "  </thead>\n",
       "  <tbody>\n",
       "    <tr>\n",
       "      <th>4</th>\n",
       "      <td>5</td>\n",
       "      <td>Austria</td>\n",
       "      <td>9</td>\n",
       "      <td>4</td>\n",
       "      <td>12</td>\n",
       "      <td>Hinterbruhl</td>\n",
       "    </tr>\n",
       "    <tr>\n",
       "      <th>5</th>\n",
       "      <td>6</td>\n",
       "      <td>China</td>\n",
       "      <td>8</td>\n",
       "      <td>3</td>\n",
       "      <td>198</td>\n",
       "      <td>Xinjiang</td>\n",
       "    </tr>\n",
       "    <tr>\n",
       "      <th>7</th>\n",
       "      <td>8</td>\n",
       "      <td>France</td>\n",
       "      <td>6</td>\n",
       "      <td>3</td>\n",
       "      <td>24</td>\n",
       "      <td>Nantes</td>\n",
       "    </tr>\n",
       "    <tr>\n",
       "      <th>8</th>\n",
       "      <td>9</td>\n",
       "      <td>India</td>\n",
       "      <td>8</td>\n",
       "      <td>3</td>\n",
       "      <td>45</td>\n",
       "      <td>Ladakh</td>\n",
       "    </tr>\n",
       "    <tr>\n",
       "      <th>9</th>\n",
       "      <td>10</td>\n",
       "      <td>Indonesia</td>\n",
       "      <td>9</td>\n",
       "      <td>4</td>\n",
       "      <td>80</td>\n",
       "      <td>Aceh</td>\n",
       "    </tr>\n",
       "    <tr>\n",
       "      <th>6</th>\n",
       "      <td>7</td>\n",
       "      <td>Italy</td>\n",
       "      <td>9</td>\n",
       "      <td>5</td>\n",
       "      <td>76</td>\n",
       "      <td>Puglia</td>\n",
       "    </tr>\n",
       "    <tr>\n",
       "      <th>10</th>\n",
       "      <td>11</td>\n",
       "      <td>Japan</td>\n",
       "      <td>10</td>\n",
       "      <td>5</td>\n",
       "      <td>90</td>\n",
       "      <td>Beppu</td>\n",
       "    </tr>\n",
       "    <tr>\n",
       "      <th>0</th>\n",
       "      <td>1</td>\n",
       "      <td>New Zealand</td>\n",
       "      <td>9</td>\n",
       "      <td>4</td>\n",
       "      <td>5</td>\n",
       "      <td>Rotura</td>\n",
       "    </tr>\n",
       "    <tr>\n",
       "      <th>1</th>\n",
       "      <td>2</td>\n",
       "      <td>North Pole</td>\n",
       "      <td>8</td>\n",
       "      <td>4</td>\n",
       "      <td>6</td>\n",
       "      <td>Svalbard</td>\n",
       "    </tr>\n",
       "    <tr>\n",
       "      <th>13</th>\n",
       "      <td>14</td>\n",
       "      <td>Oman</td>\n",
       "      <td>7</td>\n",
       "      <td>5</td>\n",
       "      <td>2</td>\n",
       "      <td>Bahla</td>\n",
       "    </tr>\n",
       "    <tr>\n",
       "      <th>12</th>\n",
       "      <td>13</td>\n",
       "      <td>Palestine</td>\n",
       "      <td>9</td>\n",
       "      <td>3</td>\n",
       "      <td>5</td>\n",
       "      <td>Jerusalem</td>\n",
       "    </tr>\n",
       "    <tr>\n",
       "      <th>3</th>\n",
       "      <td>4</td>\n",
       "      <td>Russia</td>\n",
       "      <td>8</td>\n",
       "      <td>5</td>\n",
       "      <td>17</td>\n",
       "      <td>Yakaterinburg</td>\n",
       "    </tr>\n",
       "    <tr>\n",
       "      <th>11</th>\n",
       "      <td>12</td>\n",
       "      <td>Turkey</td>\n",
       "      <td>9</td>\n",
       "      <td>4</td>\n",
       "      <td>54</td>\n",
       "      <td>Faralya</td>\n",
       "    </tr>\n",
       "    <tr>\n",
       "      <th>2</th>\n",
       "      <td>3</td>\n",
       "      <td>Turkmenistan</td>\n",
       "      <td>7</td>\n",
       "      <td>3</td>\n",
       "      <td>9</td>\n",
       "      <td>Derweze</td>\n",
       "    </tr>\n",
       "    <tr>\n",
       "      <th>14</th>\n",
       "      <td>15</td>\n",
       "      <td>United Kingdom</td>\n",
       "      <td>7</td>\n",
       "      <td>4</td>\n",
       "      <td>20</td>\n",
       "      <td>London</td>\n",
       "    </tr>\n",
       "  </tbody>\n",
       "</table>\n",
       "</div>"
      ],
      "text/plain": [
       "    id     Destination  Feedback  Avg Rating  All in Hotels   Most Popular\n",
       "4    5         Austria         9           4             12    Hinterbruhl\n",
       "5    6           China         8           3            198       Xinjiang\n",
       "7    8          France         6           3             24         Nantes\n",
       "8    9           India         8           3             45         Ladakh\n",
       "9   10       Indonesia         9           4             80           Aceh\n",
       "6    7           Italy         9           5             76         Puglia\n",
       "10  11           Japan        10           5             90          Beppu\n",
       "0    1     New Zealand         9           4              5         Rotura\n",
       "1    2      North Pole         8           4              6       Svalbard\n",
       "13  14            Oman         7           5              2          Bahla\n",
       "12  13       Palestine         9           3              5      Jerusalem\n",
       "3    4          Russia         8           5             17  Yakaterinburg\n",
       "11  12          Turkey         9           4             54        Faralya\n",
       "2    3    Turkmenistan         7           3              9        Derweze\n",
       "14  15  United Kingdom         7           4             20         London"
      ]
     },
     "execution_count": 21,
     "metadata": {},
     "output_type": "execute_result"
    }
   ],
   "source": [
    "df.sort_values(['Destination', 'Avg Rating'], ascending = [True, False])\n",
    "#Sort on 2 cols Destination ascending and Avg Rating in desc order"
   ]
  },
  {
   "cell_type": "markdown",
   "id": "d3320473",
   "metadata": {
    "papermill": {
     "duration": 0.013448,
     "end_time": "2023-03-20T13:48:09.096499",
     "exception": false,
     "start_time": "2023-03-20T13:48:09.083051",
     "status": "completed"
    },
    "tags": []
   },
   "source": [
    "Show num of most hotels in a country"
   ]
  },
  {
   "cell_type": "code",
   "execution_count": 22,
   "id": "9d3268bd",
   "metadata": {
    "execution": {
     "iopub.execute_input": "2023-03-20T13:48:09.126515Z",
     "iopub.status.busy": "2023-03-20T13:48:09.125743Z",
     "iopub.status.idle": "2023-03-20T13:48:09.131477Z",
     "shell.execute_reply": "2023-03-20T13:48:09.130787Z"
    },
    "papermill": {
     "duration": 0.02286,
     "end_time": "2023-03-20T13:48:09.133288",
     "exception": false,
     "start_time": "2023-03-20T13:48:09.110428",
     "status": "completed"
    },
    "tags": []
   },
   "outputs": [
    {
     "data": {
      "text/plain": [
       "198"
      ]
     },
     "execution_count": 22,
     "metadata": {},
     "output_type": "execute_result"
    }
   ],
   "source": [
    "df['All in Hotels'].max()"
   ]
  },
  {
   "cell_type": "code",
   "execution_count": 23,
   "id": "99a9b966",
   "metadata": {
    "execution": {
     "iopub.execute_input": "2023-03-20T13:48:09.157594Z",
     "iopub.status.busy": "2023-03-20T13:48:09.156899Z",
     "iopub.status.idle": "2023-03-20T13:48:09.163401Z",
     "shell.execute_reply": "2023-03-20T13:48:09.162466Z"
    },
    "papermill": {
     "duration": 0.020857,
     "end_time": "2023-03-20T13:48:09.165322",
     "exception": false,
     "start_time": "2023-03-20T13:48:09.144465",
     "status": "completed"
    },
    "tags": []
   },
   "outputs": [
    {
     "data": {
      "text/plain": [
       "10"
      ]
     },
     "execution_count": 23,
     "metadata": {},
     "output_type": "execute_result"
    }
   ],
   "source": [
    "df['Feedback'].max() #max feedback received"
   ]
  },
  {
   "cell_type": "markdown",
   "id": "03e20052",
   "metadata": {
    "papermill": {
     "duration": 0.010583,
     "end_time": "2023-03-20T13:48:09.186905",
     "exception": false,
     "start_time": "2023-03-20T13:48:09.176322",
     "status": "completed"
    },
    "tags": []
   },
   "source": [
    "Which destination has > 4* average ratings?"
   ]
  },
  {
   "cell_type": "code",
   "execution_count": 24,
   "id": "175be87e",
   "metadata": {
    "execution": {
     "iopub.execute_input": "2023-03-20T13:48:09.210372Z",
     "iopub.status.busy": "2023-03-20T13:48:09.210026Z",
     "iopub.status.idle": "2023-03-20T13:48:09.219039Z",
     "shell.execute_reply": "2023-03-20T13:48:09.217877Z"
    },
    "papermill": {
     "duration": 0.023126,
     "end_time": "2023-03-20T13:48:09.220999",
     "exception": false,
     "start_time": "2023-03-20T13:48:09.197873",
     "status": "completed"
    },
    "tags": []
   },
   "outputs": [
    {
     "data": {
      "text/plain": [
       "0        New Zealand\n",
       "1         North Pole\n",
       "3             Russia\n",
       "4            Austria\n",
       "6              Italy\n",
       "9          Indonesia\n",
       "10             Japan\n",
       "11            Turkey\n",
       "13              Oman\n",
       "14    United Kingdom\n",
       "Name: Destination, dtype: object"
      ]
     },
     "execution_count": 24,
     "metadata": {},
     "output_type": "execute_result"
    }
   ],
   "source": [
    "df_filter = df[df['Avg Rating'] > 3]\n",
    "destinations = df_filter['Destination']\n",
    "destinations"
   ]
  },
  {
   "cell_type": "markdown",
   "id": "b4166d60",
   "metadata": {
    "papermill": {
     "duration": 0.011184,
     "end_time": "2023-03-20T13:48:09.243466",
     "exception": false,
     "start_time": "2023-03-20T13:48:09.232282",
     "status": "completed"
    },
    "tags": []
   },
   "source": [
    "Destinations with more than 7 feedbacks"
   ]
  },
  {
   "cell_type": "code",
   "execution_count": 25,
   "id": "6774e58e",
   "metadata": {
    "execution": {
     "iopub.execute_input": "2023-03-20T13:48:09.268276Z",
     "iopub.status.busy": "2023-03-20T13:48:09.267337Z",
     "iopub.status.idle": "2023-03-20T13:48:09.275883Z",
     "shell.execute_reply": "2023-03-20T13:48:09.275135Z"
    },
    "papermill": {
     "duration": 0.022964,
     "end_time": "2023-03-20T13:48:09.277704",
     "exception": false,
     "start_time": "2023-03-20T13:48:09.254740",
     "status": "completed"
    },
    "tags": []
   },
   "outputs": [
    {
     "data": {
      "text/plain": [
       "0     New Zealand\n",
       "1      North Pole\n",
       "3          Russia\n",
       "4         Austria\n",
       "5           China\n",
       "6           Italy\n",
       "8           India\n",
       "9       Indonesia\n",
       "10          Japan\n",
       "11         Turkey\n",
       "12      Palestine\n",
       "Name: Destination, dtype: object"
      ]
     },
     "execution_count": 25,
     "metadata": {},
     "output_type": "execute_result"
    }
   ],
   "source": [
    "df_filter = df[df['Feedback'] > 7]\n",
    "destinationsG7 = df_filter['Destination']\n",
    "destinationsG7"
   ]
  },
  {
   "cell_type": "markdown",
   "id": "8bc2e94d",
   "metadata": {
    "papermill": {
     "duration": 0.010642,
     "end_time": "2023-03-20T13:48:09.299419",
     "exception": false,
     "start_time": "2023-03-20T13:48:09.288777",
     "status": "completed"
    },
    "tags": []
   },
   "source": [
    "Phew!!!"
   ]
  }
 ],
 "metadata": {
  "kernelspec": {
   "display_name": "Python 3",
   "language": "python",
   "name": "python3"
  },
  "language_info": {
   "codemirror_mode": {
    "name": "ipython",
    "version": 3
   },
   "file_extension": ".py",
   "mimetype": "text/x-python",
   "name": "python",
   "nbconvert_exporter": "python",
   "pygments_lexer": "ipython3",
   "version": "3.7.12"
  },
  "papermill": {
   "default_parameters": {},
   "duration": 10.304601,
   "end_time": "2023-03-20T13:48:09.930351",
   "environment_variables": {},
   "exception": null,
   "input_path": "__notebook__.ipynb",
   "output_path": "__notebook__.ipynb",
   "parameters": {},
   "start_time": "2023-03-20T13:47:59.625750",
   "version": "2.4.0"
  }
 },
 "nbformat": 4,
 "nbformat_minor": 5
}
